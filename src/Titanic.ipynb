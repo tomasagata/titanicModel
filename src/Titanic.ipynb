{
  "cells": [
    {
      "cell_type": "markdown",
      "id": "18121c50",
      "metadata": {
        "id": "18121c50"
      },
      "source": [
        "# **TP Titanic**"
      ]
    },
    {
      "cell_type": "code",
      "execution_count": 379,
      "id": "ba5d9603",
      "metadata": {
        "id": "ba5d9603"
      },
      "outputs": [],
      "source": [
        "# Imports\n",
        "import math\n",
        "import pandas as pd\n",
        "import matplotlib.pyplot as plt\n",
        "import numpy as np\n",
        "from sklearn.linear_model import LogisticRegression\n",
        "from sklearn.ensemble import RandomForestClassifier\n",
        "from sklearn import tree\n",
        "from sklearn import neighbors"
      ]
    },
    {
      "cell_type": "code",
      "execution_count": 380,
      "id": "77bdeeb1",
      "metadata": {
        "id": "77bdeeb1"
      },
      "outputs": [
        {
          "data": {
            "text/html": [
              "<div>\n",
              "<style scoped>\n",
              "    .dataframe tbody tr th:only-of-type {\n",
              "        vertical-align: middle;\n",
              "    }\n",
              "\n",
              "    .dataframe tbody tr th {\n",
              "        vertical-align: top;\n",
              "    }\n",
              "\n",
              "    .dataframe thead th {\n",
              "        text-align: right;\n",
              "    }\n",
              "</style>\n",
              "<table border=\"1\" class=\"dataframe\">\n",
              "  <thead>\n",
              "    <tr style=\"text-align: right;\">\n",
              "      <th></th>\n",
              "      <th>PassengerId</th>\n",
              "      <th>Survived</th>\n",
              "      <th>Pclass</th>\n",
              "      <th>Name</th>\n",
              "      <th>Sex</th>\n",
              "      <th>Age</th>\n",
              "      <th>SibSp</th>\n",
              "      <th>Parch</th>\n",
              "      <th>Ticket</th>\n",
              "      <th>Fare</th>\n",
              "      <th>Cabin</th>\n",
              "      <th>Embarked</th>\n",
              "    </tr>\n",
              "  </thead>\n",
              "  <tbody>\n",
              "    <tr>\n",
              "      <th>0</th>\n",
              "      <td>1</td>\n",
              "      <td>0</td>\n",
              "      <td>3</td>\n",
              "      <td>Braund, Mr. Owen Harris</td>\n",
              "      <td>male</td>\n",
              "      <td>22.0</td>\n",
              "      <td>1</td>\n",
              "      <td>0</td>\n",
              "      <td>A/5 21171</td>\n",
              "      <td>7.2500</td>\n",
              "      <td>NaN</td>\n",
              "      <td>S</td>\n",
              "    </tr>\n",
              "    <tr>\n",
              "      <th>1</th>\n",
              "      <td>2</td>\n",
              "      <td>1</td>\n",
              "      <td>1</td>\n",
              "      <td>Cumings, Mrs. John Bradley (Florence Briggs Th...</td>\n",
              "      <td>female</td>\n",
              "      <td>38.0</td>\n",
              "      <td>1</td>\n",
              "      <td>0</td>\n",
              "      <td>PC 17599</td>\n",
              "      <td>71.2833</td>\n",
              "      <td>C85</td>\n",
              "      <td>C</td>\n",
              "    </tr>\n",
              "    <tr>\n",
              "      <th>2</th>\n",
              "      <td>3</td>\n",
              "      <td>1</td>\n",
              "      <td>3</td>\n",
              "      <td>Heikkinen, Miss. Laina</td>\n",
              "      <td>female</td>\n",
              "      <td>26.0</td>\n",
              "      <td>0</td>\n",
              "      <td>0</td>\n",
              "      <td>STON/O2. 3101282</td>\n",
              "      <td>7.9250</td>\n",
              "      <td>NaN</td>\n",
              "      <td>S</td>\n",
              "    </tr>\n",
              "    <tr>\n",
              "      <th>3</th>\n",
              "      <td>4</td>\n",
              "      <td>1</td>\n",
              "      <td>1</td>\n",
              "      <td>Futrelle, Mrs. Jacques Heath (Lily May Peel)</td>\n",
              "      <td>female</td>\n",
              "      <td>35.0</td>\n",
              "      <td>1</td>\n",
              "      <td>0</td>\n",
              "      <td>113803</td>\n",
              "      <td>53.1000</td>\n",
              "      <td>C123</td>\n",
              "      <td>S</td>\n",
              "    </tr>\n",
              "    <tr>\n",
              "      <th>4</th>\n",
              "      <td>5</td>\n",
              "      <td>0</td>\n",
              "      <td>3</td>\n",
              "      <td>Allen, Mr. William Henry</td>\n",
              "      <td>male</td>\n",
              "      <td>35.0</td>\n",
              "      <td>0</td>\n",
              "      <td>0</td>\n",
              "      <td>373450</td>\n",
              "      <td>8.0500</td>\n",
              "      <td>NaN</td>\n",
              "      <td>S</td>\n",
              "    </tr>\n",
              "  </tbody>\n",
              "</table>\n",
              "</div>"
            ],
            "text/plain": [
              "   PassengerId  Survived  Pclass  \\\n",
              "0            1         0       3   \n",
              "1            2         1       1   \n",
              "2            3         1       3   \n",
              "3            4         1       1   \n",
              "4            5         0       3   \n",
              "\n",
              "                                                Name     Sex   Age  SibSp  \\\n",
              "0                            Braund, Mr. Owen Harris    male  22.0      1   \n",
              "1  Cumings, Mrs. John Bradley (Florence Briggs Th...  female  38.0      1   \n",
              "2                             Heikkinen, Miss. Laina  female  26.0      0   \n",
              "3       Futrelle, Mrs. Jacques Heath (Lily May Peel)  female  35.0      1   \n",
              "4                           Allen, Mr. William Henry    male  35.0      0   \n",
              "\n",
              "   Parch            Ticket     Fare Cabin Embarked  \n",
              "0      0         A/5 21171   7.2500   NaN        S  \n",
              "1      0          PC 17599  71.2833   C85        C  \n",
              "2      0  STON/O2. 3101282   7.9250   NaN        S  \n",
              "3      0            113803  53.1000  C123        S  \n",
              "4      0            373450   8.0500   NaN        S  "
            ]
          },
          "execution_count": 380,
          "metadata": {},
          "output_type": "execute_result"
        }
      ],
      "source": [
        "# Opening CSV\n",
        "data = pd.read_csv(r'../data/train.csv')\n",
        "data.head()"
      ]
    },
    {
      "cell_type": "code",
      "execution_count": 381,
      "id": "56b3e0ae",
      "metadata": {
        "id": "56b3e0ae"
      },
      "outputs": [
        {
          "data": {
            "text/html": [
              "<div>\n",
              "<style scoped>\n",
              "    .dataframe tbody tr th:only-of-type {\n",
              "        vertical-align: middle;\n",
              "    }\n",
              "\n",
              "    .dataframe tbody tr th {\n",
              "        vertical-align: top;\n",
              "    }\n",
              "\n",
              "    .dataframe thead th {\n",
              "        text-align: right;\n",
              "    }\n",
              "</style>\n",
              "<table border=\"1\" class=\"dataframe\">\n",
              "  <thead>\n",
              "    <tr style=\"text-align: right;\">\n",
              "      <th></th>\n",
              "      <th>Survived</th>\n",
              "      <th>Pclass</th>\n",
              "      <th>Age</th>\n",
              "      <th>SibSp</th>\n",
              "      <th>Parch</th>\n",
              "      <th>Fare</th>\n",
              "      <th>Sex_male</th>\n",
              "    </tr>\n",
              "  </thead>\n",
              "  <tbody>\n",
              "    <tr>\n",
              "      <th>0</th>\n",
              "      <td>0</td>\n",
              "      <td>3</td>\n",
              "      <td>22.0</td>\n",
              "      <td>1</td>\n",
              "      <td>0</td>\n",
              "      <td>7.2500</td>\n",
              "      <td>1</td>\n",
              "    </tr>\n",
              "    <tr>\n",
              "      <th>1</th>\n",
              "      <td>1</td>\n",
              "      <td>1</td>\n",
              "      <td>38.0</td>\n",
              "      <td>1</td>\n",
              "      <td>0</td>\n",
              "      <td>71.2833</td>\n",
              "      <td>0</td>\n",
              "    </tr>\n",
              "    <tr>\n",
              "      <th>2</th>\n",
              "      <td>1</td>\n",
              "      <td>3</td>\n",
              "      <td>26.0</td>\n",
              "      <td>0</td>\n",
              "      <td>0</td>\n",
              "      <td>7.9250</td>\n",
              "      <td>0</td>\n",
              "    </tr>\n",
              "    <tr>\n",
              "      <th>3</th>\n",
              "      <td>1</td>\n",
              "      <td>1</td>\n",
              "      <td>35.0</td>\n",
              "      <td>1</td>\n",
              "      <td>0</td>\n",
              "      <td>53.1000</td>\n",
              "      <td>0</td>\n",
              "    </tr>\n",
              "    <tr>\n",
              "      <th>4</th>\n",
              "      <td>0</td>\n",
              "      <td>3</td>\n",
              "      <td>35.0</td>\n",
              "      <td>0</td>\n",
              "      <td>0</td>\n",
              "      <td>8.0500</td>\n",
              "      <td>1</td>\n",
              "    </tr>\n",
              "  </tbody>\n",
              "</table>\n",
              "</div>"
            ],
            "text/plain": [
              "   Survived  Pclass   Age  SibSp  Parch     Fare  Sex_male\n",
              "0         0       3  22.0      1      0   7.2500         1\n",
              "1         1       1  38.0      1      0  71.2833         0\n",
              "2         1       3  26.0      0      0   7.9250         0\n",
              "3         1       1  35.0      1      0  53.1000         0\n",
              "4         0       3  35.0      0      0   8.0500         1"
            ]
          },
          "execution_count": 381,
          "metadata": {},
          "output_type": "execute_result"
        }
      ],
      "source": [
        "# Cleaning\n",
        "data = data.drop(['PassengerId', 'Name', 'Ticket', 'Cabin', 'Embarked'], axis=1)\n",
        "# Dummies for Setsos\n",
        "data = pd.get_dummies(data, columns=['Sex'], drop_first=True)\n",
        "mean_age = (data['Age']).mean()\n",
        "data.fillna(mean_age, inplace=True)\n",
        "# Result\n",
        "data.head()"
      ]
    },
    {
      "cell_type": "code",
      "execution_count": 382,
      "id": "1b07291d",
      "metadata": {
        "id": "1b07291d"
      },
      "outputs": [
        {
          "data": {
            "text/html": [
              "<div>\n",
              "<style scoped>\n",
              "    .dataframe tbody tr th:only-of-type {\n",
              "        vertical-align: middle;\n",
              "    }\n",
              "\n",
              "    .dataframe tbody tr th {\n",
              "        vertical-align: top;\n",
              "    }\n",
              "\n",
              "    .dataframe thead th {\n",
              "        text-align: right;\n",
              "    }\n",
              "</style>\n",
              "<table border=\"1\" class=\"dataframe\">\n",
              "  <thead>\n",
              "    <tr style=\"text-align: right;\">\n",
              "      <th></th>\n",
              "      <th>Pclass</th>\n",
              "      <th>Age</th>\n",
              "      <th>SibSp</th>\n",
              "      <th>Parch</th>\n",
              "      <th>Fare</th>\n",
              "      <th>Sex_male</th>\n",
              "    </tr>\n",
              "  </thead>\n",
              "  <tbody>\n",
              "    <tr>\n",
              "      <th>0</th>\n",
              "      <td>3</td>\n",
              "      <td>22.0</td>\n",
              "      <td>1</td>\n",
              "      <td>0</td>\n",
              "      <td>7.2500</td>\n",
              "      <td>1</td>\n",
              "    </tr>\n",
              "    <tr>\n",
              "      <th>1</th>\n",
              "      <td>1</td>\n",
              "      <td>38.0</td>\n",
              "      <td>1</td>\n",
              "      <td>0</td>\n",
              "      <td>71.2833</td>\n",
              "      <td>0</td>\n",
              "    </tr>\n",
              "    <tr>\n",
              "      <th>2</th>\n",
              "      <td>3</td>\n",
              "      <td>26.0</td>\n",
              "      <td>0</td>\n",
              "      <td>0</td>\n",
              "      <td>7.9250</td>\n",
              "      <td>0</td>\n",
              "    </tr>\n",
              "    <tr>\n",
              "      <th>3</th>\n",
              "      <td>1</td>\n",
              "      <td>35.0</td>\n",
              "      <td>1</td>\n",
              "      <td>0</td>\n",
              "      <td>53.1000</td>\n",
              "      <td>0</td>\n",
              "    </tr>\n",
              "    <tr>\n",
              "      <th>4</th>\n",
              "      <td>3</td>\n",
              "      <td>35.0</td>\n",
              "      <td>0</td>\n",
              "      <td>0</td>\n",
              "      <td>8.0500</td>\n",
              "      <td>1</td>\n",
              "    </tr>\n",
              "  </tbody>\n",
              "</table>\n",
              "</div>"
            ],
            "text/plain": [
              "   Pclass   Age  SibSp  Parch     Fare  Sex_male\n",
              "0       3  22.0      1      0   7.2500         1\n",
              "1       1  38.0      1      0  71.2833         0\n",
              "2       3  26.0      0      0   7.9250         0\n",
              "3       1  35.0      1      0  53.1000         0\n",
              "4       3  35.0      0      0   8.0500         1"
            ]
          },
          "execution_count": 382,
          "metadata": {},
          "output_type": "execute_result"
        }
      ],
      "source": [
        "explicativeVariables = data.drop('Survived', axis=1)\n",
        "explicativeVariables.head()"
      ]
    },
    {
      "cell_type": "code",
      "execution_count": 383,
      "id": "d19df397",
      "metadata": {
        "id": "d19df397"
      },
      "outputs": [
        {
          "data": {
            "text/plain": [
              "0    0\n",
              "1    1\n",
              "2    1\n",
              "3    1\n",
              "4    0\n",
              "Name: Survived, dtype: int64"
            ]
          },
          "execution_count": 383,
          "metadata": {},
          "output_type": "execute_result"
        }
      ],
      "source": [
        "targetVariable = data['Survived']\n",
        "targetVariable.head()"
      ]
    },
    {
      "cell_type": "code",
      "execution_count": 384,
      "id": "9e1cfa9b",
      "metadata": {
        "id": "9e1cfa9b"
      },
      "outputs": [],
      "source": [
        "# Function for graphing\n",
        "def graph(x, y, survived, xLabel, yLabel):\n",
        "    plt.scatter(x, y, c=np.array(survived))\n",
        "    plt.xlabel(xLabel)\n",
        "    plt.ylabel(yLabel)\n",
        "    plt.colorbar()\n",
        "    plt.show()"
      ]
    },
    {
      "cell_type": "code",
      "execution_count": 385,
      "id": "96c17b8e",
      "metadata": {
        "id": "96c17b8e"
      },
      "outputs": [],
      "source": [
        "def graphRelationBetweenTwoVariables(explicativeVariables, targetVariable):\n",
        "    for i in range(0, explicativeVariables.columns.size - 1):\n",
        "        for j in range(i + 1, explicativeVariables.columns.size):\n",
        "            columnI = explicativeVariables.columns[i]\n",
        "            columnJ = explicativeVariables.columns[j]\n",
        "            graph(explicativeVariables[columnI], explicativeVariables[columnJ], targetVariable, columnI, columnJ)"
      ]
    },
    {
      "cell_type": "code",
      "execution_count": 386,
      "id": "5952b1d0",
      "metadata": {
        "id": "5952b1d0"
      },
      "outputs": [],
      "source": [
        "#graphRelationBetweenTwoVariables(explicativeVariables, targetVariable)"
      ]
    },
    {
      "cell_type": "markdown",
      "id": "1185f28e",
      "metadata": {},
      "source": [
        "# _**Exprópiese**_"
      ]
    },
    {
      "cell_type": "code",
      "execution_count": 387,
      "id": "59658d23",
      "metadata": {},
      "outputs": [],
      "source": [
        "# def createLogisticModel(x, y):\n",
        "#     if 'const' in x.columns:\n",
        "#         x = x.drop('const', axis=1)\n",
        "\n",
        "#     return LogisticRegression().fit(x, y)"
      ]
    },
    {
      "cell_type": "code",
      "execution_count": 388,
      "id": "1d1e764d",
      "metadata": {},
      "outputs": [],
      "source": [
        "# def simpleTreeModel(X, y):\n",
        "#     if 'const' in X.columns:\n",
        "#         Xp = X.drop('const', axis=1)\n",
        "#     else:\n",
        "#         Xp = X\n",
        "    \n",
        "#     model = tree.DecisionTreeClassifier(min_samples_leaf=5).fit(Xp, y)\n",
        "\n",
        "#     return model"
      ]
    },
    {
      "cell_type": "code",
      "execution_count": 389,
      "id": "006cc01b",
      "metadata": {},
      "outputs": [],
      "source": [
        "# def randomForestModel(X, y):\n",
        "#     if 'const' in X.columns:\n",
        "#         Xp = X.drop('const', axis=1)\n",
        "#     else:\n",
        "#         Xp = X\n",
        "    \n",
        "#     model = RandomForestClassifier(min_samples_leaf=5, n_estimators=100).fit(Xp, y)\n",
        "\n",
        "#     return model"
      ]
    },
    {
      "cell_type": "code",
      "execution_count": 390,
      "id": "b436385e",
      "metadata": {},
      "outputs": [],
      "source": [
        "def mse(y_real, y_pred):\n",
        "    return (np.power(y_real - y_pred, 2)).mean()"
      ]
    },
    {
      "cell_type": "code",
      "execution_count": 391,
      "id": "4d8eb806",
      "metadata": {},
      "outputs": [],
      "source": [
        "def calculateAccuracy(y_real, y_pred):\n",
        "    return 1 - mse(y_real, y_pred)"
      ]
    },
    {
      "cell_type": "code",
      "execution_count": 392,
      "id": "a0c252b6",
      "metadata": {},
      "outputs": [],
      "source": [
        "def set_up_predictions(y_proba, t=0.5):\n",
        "    y_pred = []\n",
        "    for proba in y_proba:\n",
        "        pred = 0\n",
        "        if proba[1] > t:\n",
        "            pred = 1\n",
        "        \n",
        "        y_pred.append(pred)\n",
        "    return y_pred"
      ]
    },
    {
      "cell_type": "code",
      "execution_count": 393,
      "id": "802ceea9",
      "metadata": {},
      "outputs": [],
      "source": [
        "# VER DE ADAPTAR EL KFOLD PARA ESTO\n",
        "def kFoldValidation(x, y, model, k=5, t=0.5):\n",
        "    mseArray = []\n",
        "    for i in range(0, int(k)):\n",
        "        xTest = x[i * math.floor(len(x) / k) : (i + 1) * math.floor(len(x) / k)]\n",
        "        yTest = y[i * math.floor(len(y) / k) : (i + 1) * math.floor(len(y) / k)]\n",
        "        xTrain = pd.concat([x[0: i * math.floor(len(x) / k)], x[(i + 1) * math.floor(len(x) / k) :]])\n",
        "        yTrain = pd.concat([y[0: i * math.floor(len(y) / k)], y[(i + 1) * math.floor(len(y) / k) :]])\n",
        "        model = model.fit(xTrain.reset_index(), yTrain.reset_index())\n",
        "        yPredProb = model.predict_proba(xTest.reset_index())\n",
        "        yPred = set_up_predictions(yPredProb.reset_index(), t)\n",
        "        mse_res = mse(yTest.reset_index(), yPred.reset_index())\n",
        "        mseArray.append(mse_res)\n",
        "        print(mse_res)\n",
        "    final = np.array(mseArray)\n",
        "    return final.mean()"
      ]
    },
    {
      "cell_type": "code",
      "execution_count": 394,
      "id": "9a02aa22",
      "metadata": {},
      "outputs": [],
      "source": [
        "from sklearn.neighbors import KNeighborsClassifier\n",
        "\n",
        "\n",
        "def determineModel(x, y):\n",
        "    models = [\n",
        "        LogisticRegression(), \n",
        "        tree.DecisionTreeClassifier(min_samples_leaf=5),\n",
        "        RandomForestClassifier(min_samples_leaf=5, n_estimators=100),\n",
        "        KNeighborsClassifier()\n",
        "    ]\n",
        "    modelMse = []\n",
        "    modelT = []\n",
        "    for model in models:\n",
        "        model_best_kfold = np.Infinity\n",
        "        best_t = 0\n",
        "        for t in np.arange(0, 1, 0.1):\n",
        "            res = kFoldValidation(x, y, model, t)\n",
        "            if res < model_best_kfold:\n",
        "                model_best_kfold = res\n",
        "                best_t = t\n",
        "        modelMse.append(model_best_kfold)\n",
        "        modelT.append(best_t)\n",
        "    best_model_index = modelMse.index(min(modelMse))\n",
        "    model = models[best_model_index]\n",
        "    model_t = modelT[best_model_index]\n",
        "    print(modelMse)\n",
        "    return model, model_t"
      ]
    },
    {
      "cell_type": "code",
      "execution_count": 395,
      "id": "70a7eb13",
      "metadata": {},
      "outputs": [
        {
          "name": "stdout",
          "output_type": "stream",
          "text": [
            "[98989898, 98989898, 98989898, 98989898]\n",
            "0\n"
          ]
        },
        {
          "name": "stderr",
          "output_type": "stream",
          "text": [
            "/var/folders/3l/rc4mb8xs5nv31y8smd9w_83r0000gn/T/ipykernel_31891/2610097075.py:16: RuntimeWarning: Mean of empty slice.\n",
            "  return final.mean()\n",
            "/Users/kpapiccio/PycharmProjects/titanicModel/venv/lib/python3.9/site-packages/numpy/core/_methods.py:190: RuntimeWarning: invalid value encountered in double_scalars\n",
            "  ret = ret.dtype.type(ret / rcount)\n"
          ]
        }
      ],
      "source": [
        "model, th = determineModel(explicativeVariables, targetVariable)\n",
        "testData = pd.read_csv(r'../data/test.csv')\n",
        "passId = testData['PassengerId']\n",
        "testData = testData.drop(['PassengerId', 'Name', 'Ticket', 'Cabin', 'Embarked'], axis=1)\n",
        "\n",
        "# Dummies for Sex\n",
        "testData = pd.get_dummies(testData, columns=['Sex'], drop_first=True)\n",
        "testData.fillna(mean_age, inplace=True)\n",
        "# Result\n",
        "model = model.fit(explicativeVariables, targetVariable)\n",
        "predictionProba = model.predict_proba(testData)\n",
        "prediction = set_up_predictions(predictionProba, th)\n",
        "prediction\n",
        "finalData = testData\n",
        "finalData.insert(len(finalData.columns), 'Survived', prediction)\n",
        "finalData.insert(0, 'PassengerId', passId)\n",
        "finalData.to_csv('resultados.csv', index = True)\n",
        "print(th)"
      ]
    },
    {
      "cell_type": "markdown",
      "id": "8c897ce0",
      "metadata": {},
      "source": []
    },
    {
      "cell_type": "markdown",
      "id": "18121c50",
      "metadata": {
        "id": "18121c50"
      },
      "source": [
        "# _**Expropiado**_"
      ]
    }
  ],
  "metadata": {
    "colab": {
      "collapsed_sections": [],
      "provenance": []
    },
    "kernelspec": {
      "display_name": "Python 3.9.13 ('venv': venv)",
      "language": "python",
      "name": "python3"
    },
    "language_info": {
      "codemirror_mode": {
        "name": "ipython",
        "version": 3
      },
      "file_extension": ".py",
      "mimetype": "text/x-python",
      "name": "python",
      "nbconvert_exporter": "python",
      "pygments_lexer": "ipython3",
      "version": "3.9.13"
    },
    "vscode": {
      "interpreter": {
        "hash": "0cc5faa975b7e535e4dee0376ce8c02ce3d4b491c37744468e6c4fe7997b9052"
      }
    }
  },
  "nbformat": 4,
  "nbformat_minor": 5
}
